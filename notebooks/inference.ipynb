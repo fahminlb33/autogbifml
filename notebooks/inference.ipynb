{
 "cells": [
  {
   "cell_type": "code",
   "execution_count": 1,
   "metadata": {},
   "outputs": [],
   "source": [
    "import time\n",
    "import yaml\n",
    "import joblib\n",
    "\n",
    "import numpy as np\n",
    "import pandas as pd\n",
    "import geopandas as gpd\n",
    "import seaborn as sns\n",
    "import matplotlib.pyplot as plt\n",
    "\n",
    "from sklearn.pipeline import Pipeline\n",
    "from sklearn.ensemble import RandomForestClassifier\n",
    "from sklearn.preprocessing import MinMaxScaler\n",
    "from sklearn.metrics import classification_report, matthews_corrcoef, accuracy_score, precision_score, recall_score, f1_score, ConfusionMatrixDisplay"
   ]
  },
  {
   "cell_type": "code",
   "execution_count": 2,
   "metadata": {},
   "outputs": [],
   "source": [
    "plt.rcParams[\"font.family\"] = \"Arial\""
   ]
  },
  {
   "cell_type": "markdown",
   "metadata": {},
   "source": [
    "## Load Dataset"
   ]
  },
  {
   "cell_type": "code",
   "execution_count": 3,
   "metadata": {},
   "outputs": [],
   "source": [
    "df_train = pd.read_parquet(\"../dataset/combined/undersampled/train-sel-10.parquet\")\n",
    "df_test = pd.read_parquet(\"../dataset/combined/full/test-sel-10.parquet\")"
   ]
  },
  {
   "cell_type": "code",
   "execution_count": 4,
   "metadata": {},
   "outputs": [],
   "source": [
    "X_train, y_train = df_train.drop(columns=[\"zone_id\", \"target\"]), df_train[\"target\"]\n",
    "X_test, y_test = df_test.drop(columns=[\"zone_id\", \"target\"]), df_test[\"target\"]"
   ]
  },
  {
   "cell_type": "markdown",
   "metadata": {},
   "source": [
    "## Training"
   ]
  },
  {
   "cell_type": "code",
   "execution_count": 5,
   "metadata": {},
   "outputs": [
    {
     "name": "stdout",
     "output_type": "stream",
     "text": [
      "Time: 45.4182\n"
     ]
    }
   ],
   "source": [
    "best_params = yaml.safe_load(open(\"../dataset/models/best_params_random_forest.yml\", \"r\"))\n",
    "clf = Pipeline(steps=[\n",
    "    (\"scaler\", MinMaxScaler()),\n",
    "    (\"classifier\", RandomForestClassifier(**best_params))\n",
    "])\n",
    "\n",
    "st = time.time()\n",
    "clf.fit(X_train, y_train)\n",
    "dt = time.time() - st\n",
    "\n",
    "# joblib.dump(clf, \"../dataset/models/random_forest.joblib\")\n",
    "print(\"Time:\", np.round(dt, 4))"
   ]
  },
  {
   "cell_type": "markdown",
   "metadata": {},
   "source": [
    "## Evaluation"
   ]
  },
  {
   "cell_type": "code",
   "execution_count": 6,
   "metadata": {},
   "outputs": [
    {
     "name": "stdout",
     "output_type": "stream",
     "text": [
      "Time: 4.9471\n",
      "MCC: 0.8413\n",
      "Accuracy: 0.9951\n",
      "Precision: 0.7116\n",
      "Recall: 0.9996\n",
      "F1: 0.8314\n",
      "              precision    recall  f1-score   support\n",
      "\n",
      "           0       1.00      1.00      1.00    624455\n",
      "           1       0.71      1.00      0.83      7634\n",
      "\n",
      "    accuracy                           1.00    632089\n",
      "   macro avg       0.86      1.00      0.91    632089\n",
      "weighted avg       1.00      1.00      1.00    632089\n",
      "\n"
     ]
    }
   ],
   "source": [
    "st = time.time()\n",
    "y_pred = clf.predict(X_test)\n",
    "dt = time.time() - st\n",
    "\n",
    "print(\"Time:\", np.round(dt, 4))\n",
    "print(\"MCC:\", np.round(matthews_corrcoef(y_test, y_pred), 4))\n",
    "print(\"Accuracy:\", np.round(accuracy_score(y_test, y_pred), 4))\n",
    "print(\"Precision:\", np.round(precision_score(y_test, y_pred), 4))\n",
    "print(\"Recall:\", np.round(recall_score(y_test, y_pred), 4))\n",
    "print(\"F1:\", np.round(f1_score(y_test, y_pred), 4))\n",
    "\n",
    "print(classification_report(y_test, y_pred))"
   ]
  },
  {
   "cell_type": "code",
   "execution_count": 7,
   "metadata": {},
   "outputs": [
    {
     "data": {
      "text/plain": [
       "<sklearn.metrics._plot.confusion_matrix.ConfusionMatrixDisplay at 0x7f05f5e4c200>"
      ]
     },
     "execution_count": 7,
     "metadata": {},
     "output_type": "execute_result"
    },
    {
     "data": {
      "image/png": "[encoded data removed]",
      "text/plain": [
       "<Figure size 200x200 with 1 Axes>"
      ]
     },
     "metadata": {},
     "output_type": "display_data"
    }
   ],
   "source": [
    "fig, ax = plt.subplots(figsize=(2, 2))\n",
    "ConfusionMatrixDisplay.from_predictions(y_test, y_pred, ax=ax, colorbar=False)"
   ]
  },
  {
   "cell_type": "markdown",
   "metadata": {},
   "source": [
    "## Inference"
   ]
  },
  {
   "cell_type": "code",
   "execution_count": 8,
   "metadata": {},
   "outputs": [],
   "source": [
    "gpd_africa = gpd.read_file(\"../dataset/africa/shp/grid-sea-africa-zoned.shp\")\n",
    "gpd_australia = gpd.read_file(\"../dataset/australia/shp/grid-sea-australia-zoned.shp\")"
   ]
  },
  {
   "cell_type": "code",
   "execution_count": 9,
   "metadata": {},
   "outputs": [],
   "source": [
    "df_africa = pd.read_parquet(\"../dataset/combined/zonal/africa.parquet\")\n",
    "df_australia = pd.read_parquet(\"../dataset/combined/zonal/australia.parquet\")"
   ]
  },
  {
   "cell_type": "code",
   "execution_count": 10,
   "metadata": {},
   "outputs": [
    {
     "data": {
      "text/plain": [
       "Timestamp('2023-11-30 00:00:00')"
      ]
     },
     "execution_count": 10,
     "metadata": {},
     "output_type": "execute_result"
    }
   ],
   "source": [
    "df_australia[\"ts\"].max()"
   ]
  },
  {
   "cell_type": "code",
   "execution_count": 11,
   "metadata": {},
   "outputs": [
    {
     "data": {
      "text/html": [
       "<div>\n",
       "<style scoped>\n",
       "    .dataframe tbody tr th:only-of-type {\n",
       "        vertical-align: middle;\n",
       "    }\n",
       "\n",
       "    .dataframe tbody tr th {\n",
       "        vertical-align: top;\n",
       "    }\n",
       "\n",
       "    .dataframe thead th {\n",
       "        text-align: right;\n",
       "    }\n",
       "</style>\n",
       "<table border=\"1\" class=\"dataframe\">\n",
       "  <thead>\n",
       "    <tr style=\"text-align: right;\">\n",
       "      <th></th>\n",
       "      <th>sob_mean</th>\n",
       "      <th>sob_sum</th>\n",
       "      <th>fe_mean</th>\n",
       "      <th>fe_sum</th>\n",
       "      <th>so_sum</th>\n",
       "      <th>po4_mean</th>\n",
       "      <th>pbo_mean</th>\n",
       "      <th>pbo_sum</th>\n",
       "      <th>tob_mean</th>\n",
       "      <th>tob_sum</th>\n",
       "      <th>target</th>\n",
       "      <th>ts</th>\n",
       "      <th>zone_id</th>\n",
       "      <th>country</th>\n",
       "    </tr>\n",
       "  </thead>\n",
       "  <tbody>\n",
       "    <tr>\n",
       "      <th>0</th>\n",
       "      <td>35.026119</td>\n",
       "      <td>105.078362</td>\n",
       "      <td>0.002330</td>\n",
       "      <td>0.002330</td>\n",
       "      <td>105.905983</td>\n",
       "      <td>0.230662</td>\n",
       "      <td>45.163334</td>\n",
       "      <td>135.490005</td>\n",
       "      <td>12.226613</td>\n",
       "      <td>36.679840</td>\n",
       "      <td>0</td>\n",
       "      <td>2023-05-22</td>\n",
       "      <td>126</td>\n",
       "      <td>africa</td>\n",
       "    </tr>\n",
       "    <tr>\n",
       "      <th>1</th>\n",
       "      <td>35.265999</td>\n",
       "      <td>35.265999</td>\n",
       "      <td>0.002189</td>\n",
       "      <td>0.004377</td>\n",
       "      <td>35.320118</td>\n",
       "      <td>0.240582</td>\n",
       "      <td>35.651169</td>\n",
       "      <td>35.651169</td>\n",
       "      <td>16.405302</td>\n",
       "      <td>16.405302</td>\n",
       "      <td>1</td>\n",
       "      <td>2023-05-22</td>\n",
       "      <td>135</td>\n",
       "      <td>africa</td>\n",
       "    </tr>\n",
       "    <tr>\n",
       "      <th>2</th>\n",
       "      <td>35.243912</td>\n",
       "      <td>105.731735</td>\n",
       "      <td>0.002399</td>\n",
       "      <td>0.002399</td>\n",
       "      <td>105.698517</td>\n",
       "      <td>0.230044</td>\n",
       "      <td>32.090046</td>\n",
       "      <td>96.270142</td>\n",
       "      <td>15.963172</td>\n",
       "      <td>47.889515</td>\n",
       "      <td>0</td>\n",
       "      <td>2023-05-22</td>\n",
       "      <td>169</td>\n",
       "      <td>africa</td>\n",
       "    </tr>\n",
       "    <tr>\n",
       "      <th>3</th>\n",
       "      <td>35.234768</td>\n",
       "      <td>70.469536</td>\n",
       "      <td>0.001953</td>\n",
       "      <td>0.001953</td>\n",
       "      <td>70.475334</td>\n",
       "      <td>0.236275</td>\n",
       "      <td>29.342491</td>\n",
       "      <td>58.684982</td>\n",
       "      <td>15.350924</td>\n",
       "      <td>30.701847</td>\n",
       "      <td>1</td>\n",
       "      <td>2023-05-22</td>\n",
       "      <td>178</td>\n",
       "      <td>africa</td>\n",
       "    </tr>\n",
       "    <tr>\n",
       "      <th>4</th>\n",
       "      <td>35.151783</td>\n",
       "      <td>210.910690</td>\n",
       "      <td>0.001516</td>\n",
       "      <td>0.001516</td>\n",
       "      <td>211.169373</td>\n",
       "      <td>0.208846</td>\n",
       "      <td>27.001066</td>\n",
       "      <td>162.006393</td>\n",
       "      <td>15.107807</td>\n",
       "      <td>90.646843</td>\n",
       "      <td>1</td>\n",
       "      <td>2023-05-22</td>\n",
       "      <td>188</td>\n",
       "      <td>africa</td>\n",
       "    </tr>\n",
       "  </tbody>\n",
       "</table>\n",
       "</div>"
      ],
      "text/plain": [
       "    sob_mean     sob_sum   fe_mean    fe_sum      so_sum  po4_mean   pbo_mean  \\\n",
       "0  35.026119  105.078362  0.002330  0.002330  105.905983  0.230662  45.163334   \n",
       "1  35.265999   35.265999  0.002189  0.004377   35.320118  0.240582  35.651169   \n",
       "2  35.243912  105.731735  0.002399  0.002399  105.698517  0.230044  32.090046   \n",
       "3  35.234768   70.469536  0.001953  0.001953   70.475334  0.236275  29.342491   \n",
       "4  35.151783  210.910690  0.001516  0.001516  211.169373  0.208846  27.001066   \n",
       "\n",
       "      pbo_sum   tob_mean    tob_sum  target         ts  zone_id country  \n",
       "0  135.490005  12.226613  36.679840       0 2023-05-22      126  africa  \n",
       "1   35.651169  16.405302  16.405302       1 2023-05-22      135  africa  \n",
       "2   96.270142  15.963172  47.889515       0 2023-05-22      169  africa  \n",
       "3   58.684982  15.350924  30.701847       1 2023-05-22      178  africa  \n",
       "4  162.006393  15.107807  90.646843       1 2023-05-22      188  africa  "
      ]
     },
     "execution_count": 11,
     "metadata": {},
     "output_type": "execute_result"
    }
   ],
   "source": [
    "viscols = X_train.columns.tolist() + [\"target\", \"ts\", \"zone_id\"]\n",
    "df_visualize = pd.concat([\n",
    "    df_africa[df_africa[\"ts\"].between(\"2023-01-01\", \"2023-11-30\")][viscols].assign(country=\"africa\"),\n",
    "    df_australia[df_australia[\"ts\"].between(\"2023-01-01\", \"2023-11-30\")][viscols].assign(country=\"australia\"),\n",
    "], ignore_index=True)\n",
    "\n",
    "df_visualize.head()"
   ]
  },
  {
   "cell_type": "code",
   "execution_count": 12,
   "metadata": {},
   "outputs": [
    {
     "data": {
      "text/plain": [
       "array(['africa', 'australia'], dtype=object)"
      ]
     },
     "execution_count": 12,
     "metadata": {},
     "output_type": "execute_result"
    }
   ],
   "source": [
    "df_visualize[\"country\"].unique()"
   ]
  },
  {
   "cell_type": "code",
   "execution_count": 13,
   "metadata": {},
   "outputs": [],
   "source": [
    "X_vis = df_visualize.drop(columns=[\"target\", \"ts\", \"zone_id\", \"country\"])\n",
    "y_vis = df_visualize[\"target\"]\n",
    "y_pred_vis = clf.predict(X_vis)"
   ]
  },
  {
   "cell_type": "code",
   "execution_count": 14,
   "metadata": {},
   "outputs": [
    {
     "name": "stdout",
     "output_type": "stream",
     "text": [
      "MCC: 0.8421\n",
      "Accuracy: 0.9951\n",
      "Precision: 0.7128\n",
      "Recall: 0.9997\n",
      "F1: 0.8322\n",
      "              precision    recall  f1-score   support\n",
      "\n",
      "           0       1.00      1.00      1.00   1479544\n",
      "           1       0.71      1.00      0.83     18088\n",
      "\n",
      "    accuracy                           1.00   1497632\n",
      "   macro avg       0.86      1.00      0.91   1497632\n",
      "weighted avg       1.00      1.00      1.00   1497632\n",
      "\n"
     ]
    }
   ],
   "source": [
    "print(\"MCC:\", np.round(matthews_corrcoef(y_vis, y_pred_vis), 4))\n",
    "print(\"Accuracy:\", np.round(accuracy_score(y_vis, y_pred_vis), 4))\n",
    "print(\"Precision:\", np.round(precision_score(y_vis, y_pred_vis), 4))\n",
    "print(\"Recall:\", np.round(recall_score(y_vis, y_pred_vis), 4))\n",
    "print(\"F1:\", np.round(f1_score(y_vis, y_pred_vis), 4))\n",
    "\n",
    "print(classification_report(y_vis, y_pred_vis))"
   ]
  },
  {
   "cell_type": "code",
   "execution_count": 15,
   "metadata": {},
   "outputs": [],
   "source": [
    "def f_mcc(x):\n",
    "    TP = x[1, 1]\n",
    "    TN = x[0, 0]\n",
    "    FP = x[0, 1]\n",
    "    FN = x[1, 0]\n",
    "    # FN = 0\n",
    "    mcc = (TP * TN - FP * FN) / np.sqrt((TP + FP) * (TP + FN) * (TN + FP) * (TN + FN))\n",
    "    return np.round(mcc, 4)\n",
    "\n",
    "def f_f1(x):\n",
    "    TP = x[1, 1]\n",
    "    TN = x[0, 0]\n",
    "    FP = x[0, 1]\n",
    "    FN = x[1, 0]\n",
    "    # FN = 0\n",
    "    f1 = 2 * TP / (2 * TP + FP + FN)\n",
    "    return np.round(f1, 4)"
   ]
  },
  {
   "cell_type": "code",
   "execution_count": 16,
   "metadata": {},
   "outputs": [
    {
     "name": "stderr",
     "output_type": "stream",
     "text": [
      "/home/fahmi/research/thesis-tree/.venv/lib/python3.12/site-packages/sklearn/ensemble/_forest.py:994: RuntimeWarning: divide by zero encountered in log\n",
      "  return np.log(proba)\n"
     ]
    },
    {
     "data": {
      "text/html": [
       "<div>\n",
       "<style scoped>\n",
       "    .dataframe tbody tr th:only-of-type {\n",
       "        vertical-align: middle;\n",
       "    }\n",
       "\n",
       "    .dataframe tbody tr th {\n",
       "        vertical-align: top;\n",
       "    }\n",
       "\n",
       "    .dataframe thead tr th {\n",
       "        text-align: left;\n",
       "    }\n",
       "</style>\n",
       "<table border=\"1\" class=\"dataframe\">\n",
       "  <thead>\n",
       "    <tr>\n",
       "      <th>target</th>\n",
       "      <th>country</th>\n",
       "      <th>ts_month</th>\n",
       "      <th colspan=\"2\" halign=\"left\">0</th>\n",
       "      <th colspan=\"2\" halign=\"left\">1</th>\n",
       "      <th>mcc</th>\n",
       "      <th>f1</th>\n",
       "    </tr>\n",
       "    <tr>\n",
       "      <th>predicted</th>\n",
       "      <th></th>\n",
       "      <th></th>\n",
       "      <th>0</th>\n",
       "      <th>1</th>\n",
       "      <th>0</th>\n",
       "      <th>1</th>\n",
       "      <th></th>\n",
       "      <th></th>\n",
       "    </tr>\n",
       "  </thead>\n",
       "  <tbody>\n",
       "    <tr>\n",
       "      <th>0</th>\n",
       "      <td>africa</td>\n",
       "      <td>5</td>\n",
       "      <td>21767</td>\n",
       "      <td>94</td>\n",
       "      <td>0</td>\n",
       "      <td>180</td>\n",
       "      <td>0.8088</td>\n",
       "      <td>0.7930</td>\n",
       "    </tr>\n",
       "    <tr>\n",
       "      <th>1</th>\n",
       "      <td>africa</td>\n",
       "      <td>6</td>\n",
       "      <td>181481</td>\n",
       "      <td>694</td>\n",
       "      <td>0</td>\n",
       "      <td>1500</td>\n",
       "      <td>0.8253</td>\n",
       "      <td>0.8121</td>\n",
       "    </tr>\n",
       "    <tr>\n",
       "      <th>2</th>\n",
       "      <td>africa</td>\n",
       "      <td>7</td>\n",
       "      <td>225093</td>\n",
       "      <td>804</td>\n",
       "      <td>0</td>\n",
       "      <td>1860</td>\n",
       "      <td>0.8341</td>\n",
       "      <td>0.8223</td>\n",
       "    </tr>\n",
       "    <tr>\n",
       "      <th>3</th>\n",
       "      <td>africa</td>\n",
       "      <td>8</td>\n",
       "      <td>217913</td>\n",
       "      <td>697</td>\n",
       "      <td>0</td>\n",
       "      <td>1800</td>\n",
       "      <td>0.8477</td>\n",
       "      <td>0.8378</td>\n",
       "    </tr>\n",
       "    <tr>\n",
       "      <th>4</th>\n",
       "      <td>africa</td>\n",
       "      <td>9</td>\n",
       "      <td>181562</td>\n",
       "      <td>613</td>\n",
       "      <td>1</td>\n",
       "      <td>1499</td>\n",
       "      <td>0.8408</td>\n",
       "      <td>0.8300</td>\n",
       "    </tr>\n",
       "    <tr>\n",
       "      <th>5</th>\n",
       "      <td>africa</td>\n",
       "      <td>10</td>\n",
       "      <td>94354</td>\n",
       "      <td>377</td>\n",
       "      <td>0</td>\n",
       "      <td>780</td>\n",
       "      <td>0.8194</td>\n",
       "      <td>0.8054</td>\n",
       "    </tr>\n",
       "    <tr>\n",
       "      <th>6</th>\n",
       "      <td>africa</td>\n",
       "      <td>11</td>\n",
       "      <td>65389</td>\n",
       "      <td>194</td>\n",
       "      <td>0</td>\n",
       "      <td>540</td>\n",
       "      <td>0.8565</td>\n",
       "      <td>0.8477</td>\n",
       "    </tr>\n",
       "    <tr>\n",
       "      <th>7</th>\n",
       "      <td>australia</td>\n",
       "      <td>5</td>\n",
       "      <td>10695</td>\n",
       "      <td>81</td>\n",
       "      <td>0</td>\n",
       "      <td>219</td>\n",
       "      <td>0.8512</td>\n",
       "      <td>0.8439</td>\n",
       "    </tr>\n",
       "    <tr>\n",
       "      <th>8</th>\n",
       "      <td>australia</td>\n",
       "      <td>6</td>\n",
       "      <td>89284</td>\n",
       "      <td>516</td>\n",
       "      <td>1</td>\n",
       "      <td>1824</td>\n",
       "      <td>0.8801</td>\n",
       "      <td>0.8759</td>\n",
       "    </tr>\n",
       "    <tr>\n",
       "      <th>9</th>\n",
       "      <td>australia</td>\n",
       "      <td>7</td>\n",
       "      <td>110488</td>\n",
       "      <td>864</td>\n",
       "      <td>0</td>\n",
       "      <td>2263</td>\n",
       "      <td>0.8474</td>\n",
       "      <td>0.8397</td>\n",
       "    </tr>\n",
       "    <tr>\n",
       "      <th>10</th>\n",
       "      <td>australia</td>\n",
       "      <td>8</td>\n",
       "      <td>106914</td>\n",
       "      <td>846</td>\n",
       "      <td>0</td>\n",
       "      <td>2190</td>\n",
       "      <td>0.8460</td>\n",
       "      <td>0.8381</td>\n",
       "    </tr>\n",
       "    <tr>\n",
       "      <th>11</th>\n",
       "      <td>australia</td>\n",
       "      <td>9</td>\n",
       "      <td>89131</td>\n",
       "      <td>669</td>\n",
       "      <td>0</td>\n",
       "      <td>1825</td>\n",
       "      <td>0.8522</td>\n",
       "      <td>0.8451</td>\n",
       "    </tr>\n",
       "    <tr>\n",
       "      <th>12</th>\n",
       "      <td>australia</td>\n",
       "      <td>10</td>\n",
       "      <td>46227</td>\n",
       "      <td>469</td>\n",
       "      <td>2</td>\n",
       "      <td>947</td>\n",
       "      <td>0.8128</td>\n",
       "      <td>0.8008</td>\n",
       "    </tr>\n",
       "    <tr>\n",
       "      <th>13</th>\n",
       "      <td>australia</td>\n",
       "      <td>11</td>\n",
       "      <td>31959</td>\n",
       "      <td>369</td>\n",
       "      <td>1</td>\n",
       "      <td>656</td>\n",
       "      <td>0.7948</td>\n",
       "      <td>0.7800</td>\n",
       "    </tr>\n",
       "  </tbody>\n",
       "</table>\n",
       "</div>"
      ],
      "text/plain": [
       "target       country ts_month       0       1           mcc      f1\n",
       "predicted                           0    1  0     1                \n",
       "0             africa        5   21767   94  0   180  0.8088  0.7930\n",
       "1             africa        6  181481  694  0  1500  0.8253  0.8121\n",
       "2             africa        7  225093  804  0  1860  0.8341  0.8223\n",
       "3             africa        8  217913  697  0  1800  0.8477  0.8378\n",
       "4             africa        9  181562  613  1  1499  0.8408  0.8300\n",
       "5             africa       10   94354  377  0   780  0.8194  0.8054\n",
       "6             africa       11   65389  194  0   540  0.8565  0.8477\n",
       "7          australia        5   10695   81  0   219  0.8512  0.8439\n",
       "8          australia        6   89284  516  1  1824  0.8801  0.8759\n",
       "9          australia        7  110488  864  0  2263  0.8474  0.8397\n",
       "10         australia        8  106914  846  0  2190  0.8460  0.8381\n",
       "11         australia        9   89131  669  0  1825  0.8522  0.8451\n",
       "12         australia       10   46227  469  2   947  0.8128  0.8008\n",
       "13         australia       11   31959  369  1   656  0.7948  0.7800"
      ]
     },
     "execution_count": 16,
     "metadata": {},
     "output_type": "execute_result"
    }
   ],
   "source": [
    "dv = df_visualize.copy()\n",
    "dv[\"predicted\"] = y_pred_vis\n",
    "dv[\"proba\"] = clf.predict_proba(X_vis)[:, 1]\n",
    "dv[\"proba_log\"] = clf.predict_log_proba(X_vis)[:, 1]\n",
    "dv[\"ts_month\"] = dv[\"ts\"].dt.month\n",
    "\n",
    "summary_whalemap = dv.pivot_table(index=[\"country\", \"ts_month\"], columns=[\"target\", \"predicted\"], aggfunc=\"size\", fill_value=0)\n",
    "summary_whalemap = summary_whalemap.reset_index()\n",
    "summary_whalemap[\"mcc\"] = summary_whalemap.apply(f_mcc, axis=1)\n",
    "summary_whalemap[\"f1\"] = summary_whalemap.apply(f_f1, axis=1)\n",
    "summary_whalemap"
   ]
  },
  {
   "cell_type": "code",
   "execution_count": 17,
   "metadata": {},
   "outputs": [
    {
     "data": {
      "text/plain": [
       "country    target\n",
       "africa     0         991032\n",
       "           1           8160\n",
       "australia  0         488512\n",
       "           1           9928\n",
       "Name: count, dtype: int64"
      ]
     },
     "execution_count": 17,
     "metadata": {},
     "output_type": "execute_result"
    }
   ],
   "source": [
    "dv[[\"country\", \"target\"]].value_counts().sort_index()"
   ]
  },
  {
   "cell_type": "code",
   "execution_count": 18,
   "metadata": {},
   "outputs": [
    {
     "data": {
      "text/plain": [
       "<sklearn.metrics._plot.confusion_matrix.ConfusionMatrixDisplay at 0x7f05f546b170>"
      ]
     },
     "execution_count": 18,
     "metadata": {},
     "output_type": "execute_result"
    },
    {
     "data": {
      "image/png": "[encoded data removed]",
      "text/plain": [
       "<Figure size 640x480 with 1 Axes>"
      ]
     },
     "metadata": {},
     "output_type": "display_data"
    }
   ],
   "source": [
    "ConfusionMatrixDisplay.from_predictions(y_vis, y_pred_vis, colorbar=False)"
   ]
  },
  {
   "cell_type": "code",
   "execution_count": 19,
   "metadata": {},
   "outputs": [
    {
     "data": {
      "text/plain": [
       "0         2023-05-22\n",
       "1         2023-05-22\n",
       "2         2023-05-22\n",
       "3         2023-05-22\n",
       "4         2023-05-22\n",
       "             ...    \n",
       "1497627   2023-11-30\n",
       "1497628   2023-11-30\n",
       "1497629   2023-11-30\n",
       "1497630   2023-11-30\n",
       "1497631   2023-11-30\n",
       "Name: ts, Length: 1497632, dtype: datetime64[ns]"
      ]
     },
     "execution_count": 19,
     "metadata": {},
     "output_type": "execute_result"
    }
   ],
   "source": [
    "df_visualize[\"ts\"]"
   ]
  },
  {
   "cell_type": "markdown",
   "metadata": {},
   "source": [
    "## Save Geojson"
   ]
  },
  {
   "cell_type": "code",
   "execution_count": 21,
   "metadata": {},
   "outputs": [
    {
     "data": {
      "text/html": [
       "<div>\n",
       "<style scoped>\n",
       "    .dataframe tbody tr th:only-of-type {\n",
       "        vertical-align: middle;\n",
       "    }\n",
       "\n",
       "    .dataframe tbody tr th {\n",
       "        vertical-align: top;\n",
       "    }\n",
       "\n",
       "    .dataframe thead th {\n",
       "        text-align: right;\n",
       "    }\n",
       "</style>\n",
       "<table border=\"1\" class=\"dataframe\">\n",
       "  <thead>\n",
       "    <tr style=\"text-align: right;\">\n",
       "      <th></th>\n",
       "      <th>zone_id</th>\n",
       "      <th>ts_month</th>\n",
       "      <th>target</th>\n",
       "      <th>predicted</th>\n",
       "      <th>sob_mean</th>\n",
       "      <th>sob_sum</th>\n",
       "      <th>fe_mean</th>\n",
       "      <th>fe_sum</th>\n",
       "      <th>so_sum</th>\n",
       "      <th>po4_mean</th>\n",
       "      <th>pbo_mean</th>\n",
       "      <th>pbo_sum</th>\n",
       "      <th>tob_mean</th>\n",
       "      <th>tob_sum</th>\n",
       "      <th>ts</th>\n",
       "      <th>proba</th>\n",
       "      <th>proba_log</th>\n",
       "    </tr>\n",
       "  </thead>\n",
       "  <tbody>\n",
       "    <tr>\n",
       "      <th>0</th>\n",
       "      <td>433</td>\n",
       "      <td>9</td>\n",
       "      <td>0</td>\n",
       "      <td>1</td>\n",
       "      <td>34.705193</td>\n",
       "      <td>416.462311</td>\n",
       "      <td>0.000395</td>\n",
       "      <td>0.000395</td>\n",
       "      <td>425.076000</td>\n",
       "      <td>0.130867</td>\n",
       "      <td>2320.887177</td>\n",
       "      <td>27850.645996</td>\n",
       "      <td>2.300348</td>\n",
       "      <td>27.604181</td>\n",
       "      <td>2023-09-18 09:00:00.000000000</td>\n",
       "      <td>0.608841</td>\n",
       "      <td>-0.497667</td>\n",
       "    </tr>\n",
       "    <tr>\n",
       "      <th>1</th>\n",
       "      <td>433</td>\n",
       "      <td>10</td>\n",
       "      <td>0</td>\n",
       "      <td>1</td>\n",
       "      <td>34.711548</td>\n",
       "      <td>416.538581</td>\n",
       "      <td>0.000427</td>\n",
       "      <td>0.000427</td>\n",
       "      <td>425.126897</td>\n",
       "      <td>0.134682</td>\n",
       "      <td>2320.879038</td>\n",
       "      <td>27850.548528</td>\n",
       "      <td>2.315481</td>\n",
       "      <td>27.785775</td>\n",
       "      <td>2023-10-14 12:55:23.076923136</td>\n",
       "      <td>0.601689</td>\n",
       "      <td>-0.508765</td>\n",
       "    </tr>\n",
       "    <tr>\n",
       "      <th>2</th>\n",
       "      <td>530</td>\n",
       "      <td>7</td>\n",
       "      <td>0</td>\n",
       "      <td>1</td>\n",
       "      <td>34.721002</td>\n",
       "      <td>416.652023</td>\n",
       "      <td>0.000274</td>\n",
       "      <td>0.000274</td>\n",
       "      <td>425.890293</td>\n",
       "      <td>0.132705</td>\n",
       "      <td>2616.322124</td>\n",
       "      <td>31395.865646</td>\n",
       "      <td>1.831339</td>\n",
       "      <td>21.976071</td>\n",
       "      <td>2023-07-20 00:00:00.000000000</td>\n",
       "      <td>0.673128</td>\n",
       "      <td>-0.403420</td>\n",
       "    </tr>\n",
       "    <tr>\n",
       "      <th>3</th>\n",
       "      <td>530</td>\n",
       "      <td>8</td>\n",
       "      <td>0</td>\n",
       "      <td>1</td>\n",
       "      <td>34.725766</td>\n",
       "      <td>416.709198</td>\n",
       "      <td>0.000305</td>\n",
       "      <td>0.000305</td>\n",
       "      <td>424.859694</td>\n",
       "      <td>0.137223</td>\n",
       "      <td>2616.334521</td>\n",
       "      <td>31396.014141</td>\n",
       "      <td>1.854974</td>\n",
       "      <td>22.259684</td>\n",
       "      <td>2023-08-17 17:16:48.000000000</td>\n",
       "      <td>0.718049</td>\n",
       "      <td>-0.335755</td>\n",
       "    </tr>\n",
       "    <tr>\n",
       "      <th>4</th>\n",
       "      <td>530</td>\n",
       "      <td>9</td>\n",
       "      <td>0</td>\n",
       "      <td>1</td>\n",
       "      <td>34.732561</td>\n",
       "      <td>416.790729</td>\n",
       "      <td>0.000347</td>\n",
       "      <td>0.000347</td>\n",
       "      <td>424.877319</td>\n",
       "      <td>0.134155</td>\n",
       "      <td>2616.342285</td>\n",
       "      <td>31396.107812</td>\n",
       "      <td>1.941309</td>\n",
       "      <td>23.295711</td>\n",
       "      <td>2023-09-08 14:24:00.000000000</td>\n",
       "      <td>0.673171</td>\n",
       "      <td>-0.409809</td>\n",
       "    </tr>\n",
       "    <tr>\n",
       "      <th>...</th>\n",
       "      <td>...</td>\n",
       "      <td>...</td>\n",
       "      <td>...</td>\n",
       "      <td>...</td>\n",
       "      <td>...</td>\n",
       "      <td>...</td>\n",
       "      <td>...</td>\n",
       "      <td>...</td>\n",
       "      <td>...</td>\n",
       "      <td>...</td>\n",
       "      <td>...</td>\n",
       "      <td>...</td>\n",
       "      <td>...</td>\n",
       "      <td>...</td>\n",
       "      <td>...</td>\n",
       "      <td>...</td>\n",
       "      <td>...</td>\n",
       "    </tr>\n",
       "    <tr>\n",
       "      <th>876</th>\n",
       "      <td>4714</td>\n",
       "      <td>9</td>\n",
       "      <td>0</td>\n",
       "      <td>1</td>\n",
       "      <td>35.443333</td>\n",
       "      <td>212.660004</td>\n",
       "      <td>0.000930</td>\n",
       "      <td>0.000930</td>\n",
       "      <td>212.704773</td>\n",
       "      <td>0.231557</td>\n",
       "      <td>84.706856</td>\n",
       "      <td>508.241150</td>\n",
       "      <td>14.000310</td>\n",
       "      <td>84.001862</td>\n",
       "      <td>2023-09-29 00:00:00.000000000</td>\n",
       "      <td>0.513821</td>\n",
       "      <td>-0.665880</td>\n",
       "    </tr>\n",
       "    <tr>\n",
       "      <th>877</th>\n",
       "      <td>4714</td>\n",
       "      <td>10</td>\n",
       "      <td>0</td>\n",
       "      <td>1</td>\n",
       "      <td>35.450888</td>\n",
       "      <td>212.705330</td>\n",
       "      <td>0.000836</td>\n",
       "      <td>0.000836</td>\n",
       "      <td>212.701721</td>\n",
       "      <td>0.228446</td>\n",
       "      <td>84.726837</td>\n",
       "      <td>508.361023</td>\n",
       "      <td>14.093060</td>\n",
       "      <td>84.558365</td>\n",
       "      <td>2023-10-02 12:00:00.000000000</td>\n",
       "      <td>0.526016</td>\n",
       "      <td>-0.642482</td>\n",
       "    </tr>\n",
       "    <tr>\n",
       "      <th>878</th>\n",
       "      <td>4714</td>\n",
       "      <td>11</td>\n",
       "      <td>0</td>\n",
       "      <td>1</td>\n",
       "      <td>35.418686</td>\n",
       "      <td>212.512115</td>\n",
       "      <td>0.000897</td>\n",
       "      <td>0.000897</td>\n",
       "      <td>213.277679</td>\n",
       "      <td>0.203544</td>\n",
       "      <td>84.620789</td>\n",
       "      <td>507.724731</td>\n",
       "      <td>13.835282</td>\n",
       "      <td>83.011692</td>\n",
       "      <td>2023-11-25 12:00:00.000000000</td>\n",
       "      <td>0.541870</td>\n",
       "      <td>-0.614071</td>\n",
       "    </tr>\n",
       "    <tr>\n",
       "      <th>879</th>\n",
       "      <td>4721</td>\n",
       "      <td>9</td>\n",
       "      <td>0</td>\n",
       "      <td>1</td>\n",
       "      <td>35.457333</td>\n",
       "      <td>212.744001</td>\n",
       "      <td>0.001198</td>\n",
       "      <td>0.001198</td>\n",
       "      <td>212.723455</td>\n",
       "      <td>0.222617</td>\n",
       "      <td>79.805481</td>\n",
       "      <td>478.832876</td>\n",
       "      <td>14.093495</td>\n",
       "      <td>84.560970</td>\n",
       "      <td>2023-09-25 12:00:00.000000000</td>\n",
       "      <td>0.518022</td>\n",
       "      <td>-0.657987</td>\n",
       "    </tr>\n",
       "    <tr>\n",
       "      <th>880</th>\n",
       "      <td>4721</td>\n",
       "      <td>10</td>\n",
       "      <td>0</td>\n",
       "      <td>1</td>\n",
       "      <td>35.463158</td>\n",
       "      <td>212.778946</td>\n",
       "      <td>0.001164</td>\n",
       "      <td>0.001164</td>\n",
       "      <td>212.773951</td>\n",
       "      <td>0.209379</td>\n",
       "      <td>79.833636</td>\n",
       "      <td>479.001821</td>\n",
       "      <td>14.229335</td>\n",
       "      <td>85.376010</td>\n",
       "      <td>2023-10-03 00:00:00.000000000</td>\n",
       "      <td>0.521680</td>\n",
       "      <td>-0.650975</td>\n",
       "    </tr>\n",
       "  </tbody>\n",
       "</table>\n",
       "<p>881 rows × 17 columns</p>\n",
       "</div>"
      ],
      "text/plain": [
       "     zone_id  ts_month  target  predicted   sob_mean     sob_sum   fe_mean  \\\n",
       "0        433         9       0          1  34.705193  416.462311  0.000395   \n",
       "1        433        10       0          1  34.711548  416.538581  0.000427   \n",
       "2        530         7       0          1  34.721002  416.652023  0.000274   \n",
       "3        530         8       0          1  34.725766  416.709198  0.000305   \n",
       "4        530         9       0          1  34.732561  416.790729  0.000347   \n",
       "..       ...       ...     ...        ...        ...         ...       ...   \n",
       "876     4714         9       0          1  35.443333  212.660004  0.000930   \n",
       "877     4714        10       0          1  35.450888  212.705330  0.000836   \n",
       "878     4714        11       0          1  35.418686  212.512115  0.000897   \n",
       "879     4721         9       0          1  35.457333  212.744001  0.001198   \n",
       "880     4721        10       0          1  35.463158  212.778946  0.001164   \n",
       "\n",
       "       fe_sum      so_sum  po4_mean     pbo_mean       pbo_sum   tob_mean  \\\n",
       "0    0.000395  425.076000  0.130867  2320.887177  27850.645996   2.300348   \n",
       "1    0.000427  425.126897  0.134682  2320.879038  27850.548528   2.315481   \n",
       "2    0.000274  425.890293  0.132705  2616.322124  31395.865646   1.831339   \n",
       "3    0.000305  424.859694  0.137223  2616.334521  31396.014141   1.854974   \n",
       "4    0.000347  424.877319  0.134155  2616.342285  31396.107812   1.941309   \n",
       "..        ...         ...       ...          ...           ...        ...   \n",
       "876  0.000930  212.704773  0.231557    84.706856    508.241150  14.000310   \n",
       "877  0.000836  212.701721  0.228446    84.726837    508.361023  14.093060   \n",
       "878  0.000897  213.277679  0.203544    84.620789    507.724731  13.835282   \n",
       "879  0.001198  212.723455  0.222617    79.805481    478.832876  14.093495   \n",
       "880  0.001164  212.773951  0.209379    79.833636    479.001821  14.229335   \n",
       "\n",
       "       tob_sum                            ts     proba  proba_log  \n",
       "0    27.604181 2023-09-18 09:00:00.000000000  0.608841  -0.497667  \n",
       "1    27.785775 2023-10-14 12:55:23.076923136  0.601689  -0.508765  \n",
       "2    21.976071 2023-07-20 00:00:00.000000000  0.673128  -0.403420  \n",
       "3    22.259684 2023-08-17 17:16:48.000000000  0.718049  -0.335755  \n",
       "4    23.295711 2023-09-08 14:24:00.000000000  0.673171  -0.409809  \n",
       "..         ...                           ...       ...        ...  \n",
       "876  84.001862 2023-09-29 00:00:00.000000000  0.513821  -0.665880  \n",
       "877  84.558365 2023-10-02 12:00:00.000000000  0.526016  -0.642482  \n",
       "878  83.011692 2023-11-25 12:00:00.000000000  0.541870  -0.614071  \n",
       "879  84.560970 2023-09-25 12:00:00.000000000  0.518022  -0.657987  \n",
       "880  85.376010 2023-10-03 00:00:00.000000000  0.521680  -0.650975  \n",
       "\n",
       "[881 rows x 17 columns]"
      ]
     },
     "execution_count": 21,
     "metadata": {},
     "output_type": "execute_result"
    }
   ],
   "source": [
    "df_sel = dv[((dv[\"target\"] == 1) | (dv[\"predicted\"] == 1)) & (dv[\"country\"] == \"australia\")].copy().drop(columns=[\"country\"])\n",
    "df_sel = df_sel.groupby([\"zone_id\", \"ts_month\", \"target\", \"predicted\"]).mean().reset_index()\n",
    "df_sel"
   ]
  },
  {
   "cell_type": "code",
   "execution_count": 22,
   "metadata": {},
   "outputs": [
    {
     "data": {
      "text/html": [
       "<div>\n",
       "<style scoped>\n",
       "    .dataframe tbody tr th:only-of-type {\n",
       "        vertical-align: middle;\n",
       "    }\n",
       "\n",
       "    .dataframe tbody tr th {\n",
       "        vertical-align: top;\n",
       "    }\n",
       "\n",
       "    .dataframe thead th {\n",
       "        text-align: right;\n",
       "    }\n",
       "</style>\n",
       "<table border=\"1\" class=\"dataframe\">\n",
       "  <thead>\n",
       "    <tr style=\"text-align: right;\">\n",
       "      <th></th>\n",
       "      <th>zone_id</th>\n",
       "      <th>geometry</th>\n",
       "    </tr>\n",
       "  </thead>\n",
       "  <tbody>\n",
       "    <tr>\n",
       "      <th>0</th>\n",
       "      <td>1</td>\n",
       "      <td>POLYGON ((111.27449 -12.15167, 111.27449 -12.4...</td>\n",
       "    </tr>\n",
       "    <tr>\n",
       "      <th>1</th>\n",
       "      <td>2</td>\n",
       "      <td>POLYGON ((111.27449 -12.45167, 111.27449 -12.7...</td>\n",
       "    </tr>\n",
       "    <tr>\n",
       "      <th>2</th>\n",
       "      <td>3</td>\n",
       "      <td>POLYGON ((111.27449 -12.75167, 111.27449 -13.0...</td>\n",
       "    </tr>\n",
       "    <tr>\n",
       "      <th>3</th>\n",
       "      <td>4</td>\n",
       "      <td>POLYGON ((111.27449 -13.05167, 111.27449 -13.3...</td>\n",
       "    </tr>\n",
       "    <tr>\n",
       "      <th>4</th>\n",
       "      <td>5</td>\n",
       "      <td>POLYGON ((111.27449 -13.35167, 111.27449 -13.6...</td>\n",
       "    </tr>\n",
       "    <tr>\n",
       "      <th>...</th>\n",
       "      <td>...</td>\n",
       "      <td>...</td>\n",
       "    </tr>\n",
       "    <tr>\n",
       "      <th>4793</th>\n",
       "      <td>4794</td>\n",
       "      <td>POLYGON ((144.46291 -39.15167, 144.46291 -39.4...</td>\n",
       "    </tr>\n",
       "    <tr>\n",
       "      <th>4794</th>\n",
       "      <td>4795</td>\n",
       "      <td>POLYGON ((144.46291 -39.45167, 144.46291 -39.7...</td>\n",
       "    </tr>\n",
       "    <tr>\n",
       "      <th>4795</th>\n",
       "      <td>4796</td>\n",
       "      <td>POLYGON ((144.46291 -39.75167, 144.46291 -40.0...</td>\n",
       "    </tr>\n",
       "    <tr>\n",
       "      <th>4796</th>\n",
       "      <td>4797</td>\n",
       "      <td>POLYGON ((144.46291 -40.05167, 144.46291 -40.3...</td>\n",
       "    </tr>\n",
       "    <tr>\n",
       "      <th>4797</th>\n",
       "      <td>4798</td>\n",
       "      <td>POLYGON ((144.46291 -40.35167, 144.46291 -40.4...</td>\n",
       "    </tr>\n",
       "  </tbody>\n",
       "</table>\n",
       "<p>4798 rows × 2 columns</p>\n",
       "</div>"
      ],
      "text/plain": [
       "      zone_id                                           geometry\n",
       "0           1  POLYGON ((111.27449 -12.15167, 111.27449 -12.4...\n",
       "1           2  POLYGON ((111.27449 -12.45167, 111.27449 -12.7...\n",
       "2           3  POLYGON ((111.27449 -12.75167, 111.27449 -13.0...\n",
       "3           4  POLYGON ((111.27449 -13.05167, 111.27449 -13.3...\n",
       "4           5  POLYGON ((111.27449 -13.35167, 111.27449 -13.6...\n",
       "...       ...                                                ...\n",
       "4793     4794  POLYGON ((144.46291 -39.15167, 144.46291 -39.4...\n",
       "4794     4795  POLYGON ((144.46291 -39.45167, 144.46291 -39.7...\n",
       "4795     4796  POLYGON ((144.46291 -39.75167, 144.46291 -40.0...\n",
       "4796     4797  POLYGON ((144.46291 -40.05167, 144.46291 -40.3...\n",
       "4797     4798  POLYGON ((144.46291 -40.35167, 144.46291 -40.4...\n",
       "\n",
       "[4798 rows x 2 columns]"
      ]
     },
     "execution_count": 22,
     "metadata": {},
     "output_type": "execute_result"
    }
   ],
   "source": [
    "# gdf_sel = gpd_africa[[\"ZONE_ID\", \"geometry\"]].copy().rename(columns={\"ZONE_ID\": \"zone_id\"})\n",
    "gdf_sel = gpd_australia[[\"ZONE_ID\", \"geometry\"]].copy().rename(columns={\"ZONE_ID\": \"zone_id\"})\n",
    "gdf_sel"
   ]
  },
  {
   "cell_type": "code",
   "execution_count": 23,
   "metadata": {},
   "outputs": [
    {
     "data": {
      "text/html": [
       "<div>\n",
       "<style scoped>\n",
       "    .dataframe tbody tr th:only-of-type {\n",
       "        vertical-align: middle;\n",
       "    }\n",
       "\n",
       "    .dataframe tbody tr th {\n",
       "        vertical-align: top;\n",
       "    }\n",
       "\n",
       "    .dataframe thead th {\n",
       "        text-align: right;\n",
       "    }\n",
       "</style>\n",
       "<table border=\"1\" class=\"dataframe\">\n",
       "  <thead>\n",
       "    <tr style=\"text-align: right;\">\n",
       "      <th></th>\n",
       "      <th>zone_id</th>\n",
       "      <th>ts_month</th>\n",
       "      <th>target</th>\n",
       "      <th>predicted</th>\n",
       "      <th>sob_mean</th>\n",
       "      <th>sob_sum</th>\n",
       "      <th>fe_mean</th>\n",
       "      <th>fe_sum</th>\n",
       "      <th>so_sum</th>\n",
       "      <th>po4_mean</th>\n",
       "      <th>pbo_mean</th>\n",
       "      <th>pbo_sum</th>\n",
       "      <th>tob_mean</th>\n",
       "      <th>tob_sum</th>\n",
       "      <th>proba</th>\n",
       "      <th>proba_log</th>\n",
       "      <th>geometry</th>\n",
       "    </tr>\n",
       "  </thead>\n",
       "  <tbody>\n",
       "    <tr>\n",
       "      <th>0</th>\n",
       "      <td>433</td>\n",
       "      <td>9</td>\n",
       "      <td>0</td>\n",
       "      <td>1</td>\n",
       "      <td>34.705193</td>\n",
       "      <td>416.462311</td>\n",
       "      <td>0.000395</td>\n",
       "      <td>0.000395</td>\n",
       "      <td>425.076000</td>\n",
       "      <td>0.130867</td>\n",
       "      <td>2320.887177</td>\n",
       "      <td>27850.645996</td>\n",
       "      <td>2.300348</td>\n",
       "      <td>27.604181</td>\n",
       "      <td>0.608841</td>\n",
       "      <td>-0.497667</td>\n",
       "      <td>POLYGON ((112.47449 -27.75167, 112.47449 -28.0...</td>\n",
       "    </tr>\n",
       "    <tr>\n",
       "      <th>1</th>\n",
       "      <td>433</td>\n",
       "      <td>10</td>\n",
       "      <td>0</td>\n",
       "      <td>1</td>\n",
       "      <td>34.711548</td>\n",
       "      <td>416.538581</td>\n",
       "      <td>0.000427</td>\n",
       "      <td>0.000427</td>\n",
       "      <td>425.126897</td>\n",
       "      <td>0.134682</td>\n",
       "      <td>2320.879038</td>\n",
       "      <td>27850.548528</td>\n",
       "      <td>2.315481</td>\n",
       "      <td>27.785775</td>\n",
       "      <td>0.601689</td>\n",
       "      <td>-0.508765</td>\n",
       "      <td>POLYGON ((112.47449 -27.75167, 112.47449 -28.0...</td>\n",
       "    </tr>\n",
       "    <tr>\n",
       "      <th>2</th>\n",
       "      <td>530</td>\n",
       "      <td>7</td>\n",
       "      <td>0</td>\n",
       "      <td>1</td>\n",
       "      <td>34.721002</td>\n",
       "      <td>416.652023</td>\n",
       "      <td>0.000274</td>\n",
       "      <td>0.000274</td>\n",
       "      <td>425.890293</td>\n",
       "      <td>0.132705</td>\n",
       "      <td>2616.322124</td>\n",
       "      <td>31395.865646</td>\n",
       "      <td>1.831339</td>\n",
       "      <td>21.976071</td>\n",
       "      <td>0.673128</td>\n",
       "      <td>-0.403420</td>\n",
       "      <td>POLYGON ((112.77449 -28.35167, 112.77449 -28.6...</td>\n",
       "    </tr>\n",
       "    <tr>\n",
       "      <th>3</th>\n",
       "      <td>530</td>\n",
       "      <td>8</td>\n",
       "      <td>0</td>\n",
       "      <td>1</td>\n",
       "      <td>34.725766</td>\n",
       "      <td>416.709198</td>\n",
       "      <td>0.000305</td>\n",
       "      <td>0.000305</td>\n",
       "      <td>424.859694</td>\n",
       "      <td>0.137223</td>\n",
       "      <td>2616.334521</td>\n",
       "      <td>31396.014141</td>\n",
       "      <td>1.854974</td>\n",
       "      <td>22.259684</td>\n",
       "      <td>0.718049</td>\n",
       "      <td>-0.335755</td>\n",
       "      <td>POLYGON ((112.77449 -28.35167, 112.77449 -28.6...</td>\n",
       "    </tr>\n",
       "    <tr>\n",
       "      <th>4</th>\n",
       "      <td>530</td>\n",
       "      <td>9</td>\n",
       "      <td>0</td>\n",
       "      <td>1</td>\n",
       "      <td>34.732561</td>\n",
       "      <td>416.790729</td>\n",
       "      <td>0.000347</td>\n",
       "      <td>0.000347</td>\n",
       "      <td>424.877319</td>\n",
       "      <td>0.134155</td>\n",
       "      <td>2616.342285</td>\n",
       "      <td>31396.107812</td>\n",
       "      <td>1.941309</td>\n",
       "      <td>23.295711</td>\n",
       "      <td>0.673171</td>\n",
       "      <td>-0.409809</td>\n",
       "      <td>POLYGON ((112.77449 -28.35167, 112.77449 -28.6...</td>\n",
       "    </tr>\n",
       "  </tbody>\n",
       "</table>\n",
       "</div>"
      ],
      "text/plain": [
       "   zone_id  ts_month  target  predicted   sob_mean     sob_sum   fe_mean  \\\n",
       "0      433         9       0          1  34.705193  416.462311  0.000395   \n",
       "1      433        10       0          1  34.711548  416.538581  0.000427   \n",
       "2      530         7       0          1  34.721002  416.652023  0.000274   \n",
       "3      530         8       0          1  34.725766  416.709198  0.000305   \n",
       "4      530         9       0          1  34.732561  416.790729  0.000347   \n",
       "\n",
       "     fe_sum      so_sum  po4_mean     pbo_mean       pbo_sum  tob_mean  \\\n",
       "0  0.000395  425.076000  0.130867  2320.887177  27850.645996  2.300348   \n",
       "1  0.000427  425.126897  0.134682  2320.879038  27850.548528  2.315481   \n",
       "2  0.000274  425.890293  0.132705  2616.322124  31395.865646  1.831339   \n",
       "3  0.000305  424.859694  0.137223  2616.334521  31396.014141  1.854974   \n",
       "4  0.000347  424.877319  0.134155  2616.342285  31396.107812  1.941309   \n",
       "\n",
       "     tob_sum     proba  proba_log  \\\n",
       "0  27.604181  0.608841  -0.497667   \n",
       "1  27.785775  0.601689  -0.508765   \n",
       "2  21.976071  0.673128  -0.403420   \n",
       "3  22.259684  0.718049  -0.335755   \n",
       "4  23.295711  0.673171  -0.409809   \n",
       "\n",
       "                                            geometry  \n",
       "0  POLYGON ((112.47449 -27.75167, 112.47449 -28.0...  \n",
       "1  POLYGON ((112.47449 -27.75167, 112.47449 -28.0...  \n",
       "2  POLYGON ((112.77449 -28.35167, 112.77449 -28.6...  \n",
       "3  POLYGON ((112.77449 -28.35167, 112.77449 -28.6...  \n",
       "4  POLYGON ((112.77449 -28.35167, 112.77449 -28.6...  "
      ]
     },
     "execution_count": 23,
     "metadata": {},
     "output_type": "execute_result"
    }
   ],
   "source": [
    "df_con = gpd.GeoDataFrame(pd.merge(df_sel, gdf_sel, on=\"zone_id\")).drop(columns=[\"ts\"])\n",
    "df_con.head()"
   ]
  },
  {
   "cell_type": "code",
   "execution_count": 24,
   "metadata": {},
   "outputs": [
    {
     "data": {
      "text/plain": [
       "<Axes: >"
      ]
     },
     "execution_count": 24,
     "metadata": {},
     "output_type": "execute_result"
    },
    {
     "data": {
      "image/png": "[encoded data removed]",
      "text/plain": [
       "<Figure size 640x480 with 1 Axes>"
      ]
     },
     "metadata": {},
     "output_type": "display_data"
    }
   ],
   "source": [
    "df_con[df_con[\"ts_month\"] == 6].plot()"
   ]
  },
  {
   "cell_type": "code",
   "execution_count": 25,
   "metadata": {},
   "outputs": [],
   "source": [
    "df_con.to_file(\"australia.json\", driver=\"GeoJSON\")"
   ]
  },
  {
   "cell_type": "code",
   "execution_count": null,
   "metadata": {},
   "outputs": [],
   "source": []
  },
  {
   "cell_type": "code",
   "execution_count": null,
   "metadata": {},
   "outputs": [],
   "source": []
  },
  {
   "cell_type": "markdown",
   "metadata": {},
   "source": [
    "### Visualize Maps"
   ]
  },
  {
   "cell_type": "code",
   "execution_count": 21,
   "metadata": {},
   "outputs": [],
   "source": [
    "from mpl_toolkits.axes_grid1 import make_axes_locatable"
   ]
  },
  {
   "cell_type": "code",
   "execution_count": 22,
   "metadata": {},
   "outputs": [],
   "source": [
    "probas = clf.predict_proba(X_vis)\n",
    "probas[probas == 0] = np.finfo(float).eps"
   ]
  },
  {
   "cell_type": "code",
   "execution_count": 23,
   "metadata": {},
   "outputs": [
    {
     "data": {
      "text/html": [
       "<div>\n",
       "<style scoped>\n",
       "    .dataframe tbody tr th:only-of-type {\n",
       "        vertical-align: middle;\n",
       "    }\n",
       "\n",
       "    .dataframe tbody tr th {\n",
       "        vertical-align: top;\n",
       "    }\n",
       "\n",
       "    .dataframe thead th {\n",
       "        text-align: right;\n",
       "    }\n",
       "</style>\n",
       "<table border=\"1\" class=\"dataframe\">\n",
       "  <thead>\n",
       "    <tr style=\"text-align: right;\">\n",
       "      <th></th>\n",
       "      <th>country</th>\n",
       "      <th>zone_id</th>\n",
       "      <th>target</th>\n",
       "      <th>proba</th>\n",
       "      <th>classified</th>\n",
       "    </tr>\n",
       "  </thead>\n",
       "  <tbody>\n",
       "    <tr>\n",
       "      <th>0</th>\n",
       "      <td>africa</td>\n",
       "      <td>126</td>\n",
       "      <td>0</td>\n",
       "      <td>-1.949983</td>\n",
       "      <td>0</td>\n",
       "    </tr>\n",
       "    <tr>\n",
       "      <th>1</th>\n",
       "      <td>africa</td>\n",
       "      <td>135</td>\n",
       "      <td>1</td>\n",
       "      <td>0.000000</td>\n",
       "      <td>1</td>\n",
       "    </tr>\n",
       "    <tr>\n",
       "      <th>2</th>\n",
       "      <td>africa</td>\n",
       "      <td>169</td>\n",
       "      <td>0</td>\n",
       "      <td>-1.359027</td>\n",
       "      <td>0</td>\n",
       "    </tr>\n",
       "    <tr>\n",
       "      <th>3</th>\n",
       "      <td>africa</td>\n",
       "      <td>178</td>\n",
       "      <td>1</td>\n",
       "      <td>0.000000</td>\n",
       "      <td>1</td>\n",
       "    </tr>\n",
       "    <tr>\n",
       "      <th>4</th>\n",
       "      <td>africa</td>\n",
       "      <td>188</td>\n",
       "      <td>1</td>\n",
       "      <td>0.000000</td>\n",
       "      <td>1</td>\n",
       "    </tr>\n",
       "  </tbody>\n",
       "</table>\n",
       "</div>"
      ],
      "text/plain": [
       "  country  zone_id  target     proba  classified\n",
       "0  africa      126       0 -1.949983           0\n",
       "1  africa      135       1  0.000000           1\n",
       "2  africa      169       0 -1.359027           0\n",
       "3  africa      178       1  0.000000           1\n",
       "4  africa      188       1  0.000000           1"
      ]
     },
     "execution_count": 23,
     "metadata": {},
     "output_type": "execute_result"
    }
   ],
   "source": [
    "df_pred = df_visualize[[\"zone_id\", \"country\", \"target\"]].copy()\n",
    "df_pred[\"proba\"] = np.log(probas[:, 1])\n",
    "df_pred[\"classified\"] = clf.predict(X_vis)\n",
    "\n",
    "df_pred = df_pred.groupby([\"country\", \"zone_id\"]).max().reset_index()\n",
    "df_pred.head()"
   ]
  },
  {
   "cell_type": "code",
   "execution_count": 24,
   "metadata": {},
   "outputs": [
    {
     "data": {
      "text/plain": [
       "country    target\n",
       "africa     0         7287\n",
       "           1           60\n",
       "australia  0         3592\n",
       "           1           73\n",
       "Name: count, dtype: int64"
      ]
     },
     "execution_count": 24,
     "metadata": {},
     "output_type": "execute_result"
    }
   ],
   "source": [
    "df_pred[[\"country\", \"target\"]].value_counts().sort_index()"
   ]
  },
  {
   "cell_type": "code",
   "execution_count": 25,
   "metadata": {},
   "outputs": [
    {
     "data": {
      "text/plain": [
       "country    classified\n",
       "africa     0             7243\n",
       "           1              104\n",
       "australia  0             3560\n",
       "           1              105\n",
       "Name: count, dtype: int64"
      ]
     },
     "execution_count": 25,
     "metadata": {},
     "output_type": "execute_result"
    }
   ],
   "source": [
    "df_pred[[\"country\", \"classified\"]].value_counts().sort_index()"
   ]
  },
  {
   "cell_type": "code",
   "execution_count": 26,
   "metadata": {},
   "outputs": [],
   "source": [
    "def plot_map(df):\n",
    "    fig, axes = plt.subplots(1, 2)\n",
    "    axes[0].set_ylabel(\"Latitude\")\n",
    "    axes[0].set_xlabel(\"Longitude\")\n",
    "    df.plot(column=\"target\", ax=axes[0])\n",
    "\n",
    "    axes[1].set_ylabel(\"Latitude\")\n",
    "    axes[1].set_xlabel(\"Longitude\")\n",
    "    df.plot(column=\"classified\", ax=axes[1])\n",
    "\n",
    "    fig.tight_layout()\n",
    "    plt.show()"
   ]
  },
  {
   "cell_type": "code",
   "execution_count": 27,
   "metadata": {},
   "outputs": [
    {
     "data": {
      "image/png": "[encoded data removed]",
      "text/plain": [
       "<Figure size 640x480 with 2 Axes>"
      ]
     },
     "metadata": {},
     "output_type": "display_data"
    }
   ],
   "source": [
    "df_corr_aus = df_pred[df_pred[\"country\"] == \"australia\"].copy()\n",
    "gpd_res_aus = gpd_australia.merge(df_corr_aus, left_on=\"ZONE_ID\", right_on=\"zone_id\", how=\"left\").drop(columns=[\"country\", \"zone_id\"])\n",
    "# gpd_res_aus.to_file(\"../dataset/reclassify/australia_classif_2023.shp\")\n",
    "\n",
    "plot_map(gpd_res_aus)"
   ]
  },
  {
   "cell_type": "code",
   "execution_count": 28,
   "metadata": {},
   "outputs": [
    {
     "data": {
      "image/png": "[encoded data removed]",
      "text/plain": [
       "<Figure size 640x480 with 2 Axes>"
      ]
     },
     "metadata": {},
     "output_type": "display_data"
    }
   ],
   "source": [
    "df_corr_africa = df_pred[df_pred[\"country\"] == \"africa\"].copy()\n",
    "gpd_res_africa = gpd_africa.merge(df_corr_africa, left_on=\"ZONE_ID\", right_on=\"zone_id\", how=\"left\").drop(columns=[\"country\", \"zone_id\"])\n",
    "# gpd_res_africa.to_file(\"../dataset/reclassify/africa_classif_2023.shp\")\n",
    "\n",
    "plot_map(gpd_res_africa)"
   ]
  },
  {
   "cell_type": "code",
   "execution_count": 29,
   "metadata": {},
   "outputs": [
    {
     "data": {
      "image/png": "[encoded data removed]",
      "text/plain": [
       "<Figure size 640x480 with 1 Axes>"
      ]
     },
     "metadata": {},
     "output_type": "display_data"
    }
   ],
   "source": [
    "fig, ax = plt.subplots()\n",
    "ax.set_ylabel(\"Latitude\")\n",
    "ax.set_xlabel(\"Longitude\")\n",
    "# gpd_res_aus.plot(column=\"classified\", ax=ax)\n",
    "gpd_res_africa.plot(column=\"classified\", ax=ax)\n",
    "fig.savefig(\"map.pdf\", dpi=300)"
   ]
  },
  {
   "cell_type": "code",
   "execution_count": 30,
   "metadata": {},
   "outputs": [
    {
     "data": {
      "image/png": "[encoded data removed]",
      "text/plain": [
       "<Figure size 400x400 with 2 Axes>"
      ]
     },
     "metadata": {},
     "output_type": "display_data"
    }
   ],
   "source": [
    "fig, ax = plt.subplots(figsize=(4, 4))\n",
    "\n",
    "divider = make_axes_locatable(ax)\n",
    "cax = divider.append_axes(\"right\", size=\"5%\", pad=0.1)\n",
    "ax.set_ylabel(\"Latitude\")\n",
    "ax.set_xlabel(\"Longitude\")\n",
    "# gpd_res_aus.plot(column=\"proba\", ax=ax, legend=True, cax=cax)\n",
    "gpd_res_africa.plot(column=\"proba\", ax=ax, legend=True, cax=cax)\n",
    "\n",
    "fig.tight_layout()\n",
    "fig.savefig(\"proba.pdf\", dpi=300)\n",
    "plt.show()"
   ]
  },
  {
   "cell_type": "code",
   "execution_count": null,
   "metadata": {},
   "outputs": [],
   "source": []
  }
 ],
 "metadata": {
  "kernelspec": {
   "display_name": "thesis",
   "language": "python",
   "name": "python3"
  },
  "language_info": {
   "codemirror_mode": {
    "name": "ipython",
    "version": 3
   },
   "file_extension": ".py",
   "mimetype": "text/x-python",
   "name": "python",
   "nbconvert_exporter": "python",
   "pygments_lexer": "ipython3",
   "version": "3.12.3"
  }
 },
 "nbformat": 4,
 "nbformat_minor": 2
}
