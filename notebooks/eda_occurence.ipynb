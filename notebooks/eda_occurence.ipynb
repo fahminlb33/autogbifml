{
 "cells": [
  {
   "cell_type": "code",
   "execution_count": 1,
   "metadata": {},
   "outputs": [],
   "source": [
    "import pandas as pd"
   ]
  },
  {
   "cell_type": "code",
   "execution_count": 2,
   "metadata": {},
   "outputs": [
    {
     "data": {
      "text/html": [
       "<div>\n",
       "<style scoped>\n",
       "    .dataframe tbody tr th:only-of-type {\n",
       "        vertical-align: middle;\n",
       "    }\n",
       "\n",
       "    .dataframe tbody tr th {\n",
       "        vertical-align: top;\n",
       "    }\n",
       "\n",
       "    .dataframe thead th {\n",
       "        text-align: right;\n",
       "    }\n",
       "</style>\n",
       "<table border=\"1\" class=\"dataframe\">\n",
       "  <thead>\n",
       "    <tr style=\"text-align: right;\">\n",
       "      <th></th>\n",
       "      <th>occurrenceID</th>\n",
       "      <th>ts</th>\n",
       "      <th>latitude</th>\n",
       "      <th>longitude</th>\n",
       "      <th>species</th>\n",
       "    </tr>\n",
       "  </thead>\n",
       "  <tbody>\n",
       "    <tr>\n",
       "      <th>0</th>\n",
       "      <td>409742</td>\n",
       "      <td>2023-11-30</td>\n",
       "      <td>-25.363597</td>\n",
       "      <td>46.837436</td>\n",
       "      <td>Megaptera novaeangliae</td>\n",
       "    </tr>\n",
       "    <tr>\n",
       "      <th>1</th>\n",
       "      <td>403039</td>\n",
       "      <td>2023-11-21</td>\n",
       "      <td>-21.220602</td>\n",
       "      <td>55.205602</td>\n",
       "      <td>Megaptera novaeangliae</td>\n",
       "    </tr>\n",
       "    <tr>\n",
       "      <th>2</th>\n",
       "      <td>405925</td>\n",
       "      <td>2023-11-19</td>\n",
       "      <td>-33.476485</td>\n",
       "      <td>115.064949</td>\n",
       "      <td>Megaptera novaeangliae</td>\n",
       "    </tr>\n",
       "    <tr>\n",
       "      <th>3</th>\n",
       "      <td>403038</td>\n",
       "      <td>2023-11-14</td>\n",
       "      <td>-21.235409</td>\n",
       "      <td>55.226194</td>\n",
       "      <td>Megaptera novaeangliae</td>\n",
       "    </tr>\n",
       "    <tr>\n",
       "      <th>4</th>\n",
       "      <td>403037</td>\n",
       "      <td>2023-11-13</td>\n",
       "      <td>-21.269454</td>\n",
       "      <td>55.201475</td>\n",
       "      <td>Megaptera novaeangliae</td>\n",
       "    </tr>\n",
       "  </tbody>\n",
       "</table>\n",
       "</div>"
      ],
      "text/plain": [
       "   occurrenceID         ts   latitude   longitude                 species\n",
       "0        409742 2023-11-30 -25.363597   46.837436  Megaptera novaeangliae\n",
       "1        403039 2023-11-21 -21.220602   55.205602  Megaptera novaeangliae\n",
       "2        405925 2023-11-19 -33.476485  115.064949  Megaptera novaeangliae\n",
       "3        403038 2023-11-14 -21.235409   55.226194  Megaptera novaeangliae\n",
       "4        403037 2023-11-13 -21.269454   55.201475  Megaptera novaeangliae"
      ]
     },
     "execution_count": 2,
     "metadata": {},
     "output_type": "execute_result"
    }
   ],
   "source": [
    "df = pd.read_csv(\"../dataset/occurences.csv\", parse_dates=[\"ts\"])\n",
    "df.head()"
   ]
  },
  {
   "cell_type": "code",
   "execution_count": 8,
   "metadata": {},
   "outputs": [
    {
     "data": {
      "text/plain": [
       "<PeriodArray>\n",
       "['2023-11-30', '2023-11-21', '2023-11-19', '2023-11-14', '2023-11-13',\n",
       " '2023-11-08', '2023-11-07', '2023-11-06', '2023-11-05', '2023-10-31',\n",
       " ...\n",
       " '1990-08-17', '1990-08-12', '1990-08-10', '1990-08-09', '1990-08-08',\n",
       " '1990-08-07', '1990-08-05', '1990-07-09', '1989-07-09', '1988-07-09']\n",
       "Length: 2367, dtype: period[D]"
      ]
     },
     "execution_count": 8,
     "metadata": {},
     "output_type": "execute_result"
    }
   ],
   "source": [
    "df[\"ts\"].dt.to_period(\"D\").unique()"
   ]
  },
  {
   "cell_type": "code",
   "execution_count": 6,
   "metadata": {},
   "outputs": [
    {
     "data": {
      "text/plain": [
       "<PeriodArray>\n",
       "['2023-11', '2023-10', '2023-09', '2023-08', '2023-07', '2023-06', '2023-05',\n",
       " '2022-12', '2022-11', '2022-10',\n",
       " ...\n",
       " '1991-10', '1991-09', '1991-08', '1991-07', '1990-10', '1990-09', '1990-08',\n",
       " '1990-07', '1989-07', '1988-07']\n",
       "Length: 210, dtype: period[M]"
      ]
     },
     "execution_count": 6,
     "metadata": {},
     "output_type": "execute_result"
    }
   ],
   "source": [
    "df[\"ts\"].dt.to_period(\"M\").unique()"
   ]
  },
  {
   "cell_type": "code",
   "execution_count": null,
   "metadata": {},
   "outputs": [],
   "source": []
  }
 ],
 "metadata": {
  "kernelspec": {
   "display_name": "thesis",
   "language": "python",
   "name": "python3"
  },
  "language_info": {
   "codemirror_mode": {
    "name": "ipython",
    "version": 3
   },
   "file_extension": ".py",
   "mimetype": "text/x-python",
   "name": "python",
   "nbconvert_exporter": "python",
   "pygments_lexer": "ipython3",
   "version": "3.12.2"
  }
 },
 "nbformat": 4,
 "nbformat_minor": 2
}
